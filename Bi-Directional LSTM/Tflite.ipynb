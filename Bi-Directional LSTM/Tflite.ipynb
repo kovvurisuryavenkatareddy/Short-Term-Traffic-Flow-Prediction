{
 "cells": [
  {
   "cell_type": "markdown",
   "metadata": {},
   "source": [
    "# Tflite Model Creation for Bi-LSTM Model"
   ]
  },
  {
   "cell_type": "markdown",
   "metadata": {},
   "source": [
    "TF Lite can optimize existing models to be less memory and cost-consuming, the ideal situation for using machine learning models on mobile and other Edge Devices."
   ]
  },
  {
   "cell_type": "code",
   "execution_count": null,
   "metadata": {},
   "outputs": [],
   "source": [
    "import numpy as  np # type: ignore\n",
    "import pandas as pd # type: ignore\n",
    "import tensorflow as tf # type: ignore\n",
    "import math\n",
    "\n",
    "from sklearn.preprocessing import MinMaxScaler # type: ignore\n",
    "from sklearn.metrics import mean_squared_error, mean_absolute_error, mean_absolute_percentage_error # type: ignore"
   ]
  },
  {
   "cell_type": "markdown",
   "metadata": {},
   "source": [
    "Now,we have to convert the h5 model to tflite model "
   ]
  },
  {
   "cell_type": "code",
   "execution_count": null,
   "metadata": {},
   "outputs": [],
   "source": [
    "converter = tf.lite.TFLiteConverter.from_keras_model('Path to the h5 model') # path to the SavedModel directory\n",
    "converter.optimizations = [tf.lite.Optimize.DEFAULT] # Optimize the model  \n",
    "converter.target_spec.supported_ops = [\n",
    "    tf.lite.OpsSet.TFLITE_BUILTINS,\n",
    "    tf.lite.OpsSet.SELECT_TF_OPS\n",
    "]\n",
    "converter._experimental_lower_tensor_list_ops = False # This is required to convert the model to tflite\n",
    "tflite_model = converter.convert() # Convert the model to tflite \n",
    "\n",
    "with open('Path to save the tflite model', 'wb') as f: # path to save the tflite model\n",
    "    f.write(tflite_model)"
   ]
  },
  {
   "cell_type": "markdown",
   "metadata": {},
   "source": [
    "Now,we have to make Predictions on the Tflite model"
   ]
  },
  {
   "cell_type": "code",
   "execution_count": null,
   "metadata": {},
   "outputs": [],
   "source": [
    "interpreter = tf.lite.Interpreter(model_path=\"path to the tflite model\") # path to the tflite model's path\n",
    "interpreter.allocate_tensors()\n",
    "input_details = interpreter.get_input_details()\n",
    "output_details = interpreter.get_output_details()\n",
    "predicted_values = []\n",
    "true_values = []\n",
    "\n",
    "for i in range(len(\"x_testing_dataset\")): # x_testing_dataset is the testing dataset\n",
    "    cnn_input_data = np.expand_dims('x_testing_dataset'[i], axis=0).astype(np.float32) \n",
    "    interpreter.set_tensor(input_details[0]['index'], cnn_input_data) # Set the input tensor\n",
    "    interpreter.invoke() # Run the model\n",
    "\n",
    "    output_data = interpreter.get_tensor(output_details[0]['index']) # Get the output tensor\n",
    "\n",
    "    predicted_values.append(output_data[0][0]) # Append the predicted values\n",
    "    true_values.append(\"y_testing_dataset\"[i]) # Append the true values \n",
    "\n",
    "predicted_values = np.array(predicted_values) \n",
    "true_values = np.array(true_values) \n",
    "\n",
    "\n",
    "predicted_values_reshaped = predicted_values.reshape(-1, 1) # Reshape the predicted values\n",
    "predictions_rescaled = scaler.inverse_transform(predicted_values_reshaped).flatten() # Rescale the predicted values\n",
    "\n",
    "y_test_reshaped = true_values.reshape(-1, 1) # Reshape the true values\n",
    "y_test_rescaled = scaler.inverse_transform(y_test_reshaped).flatten()  # Rescale the true values\n",
    "\n",
    "results = pd.DataFrame(data={'Predictions': predictions_rescaled, 'Actuals': y_test_rescaled}) # Create a dataframe with the predicted and true values\n",
    "print(results)"
   ]
  },
  {
   "cell_type": "markdown",
   "metadata": {},
   "source": [
    "# Error Values for the TFLite Model"
   ]
  },
  {
   "cell_type": "code",
   "execution_count": null,
   "metadata": {},
   "outputs": [],
   "source": [
    "optimized_rmse = math.sqrt(mean_squared_error(y_test_rescaled, predictions_rescaled))\n",
    "optimized_mae = mean_absolute_error(y_test_rescaled, predictions_rescaled)\n",
    "optimized_mape = mean_absolute_percentage_error(predictions_rescaled, y_test_rescaled)\n",
    "\n",
    "print(\"Optimized RMSE:\", optimized_rmse)\n",
    "print(\"Optimized MAE:\", optimized_mae)\n",
    "print(\"Optimized MAPE:\", optimized_mape)"
   ]
  }
 ],
 "metadata": {
  "language_info": {
   "name": "python"
  }
 },
 "nbformat": 4,
 "nbformat_minor": 2
}
