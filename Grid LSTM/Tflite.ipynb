{
 "cells": [
  {
   "cell_type": "markdown",
   "metadata": {},
   "source": [
    "# Tflite Model Creation for GRID LSTM Model"
   ]
  },
  {
   "cell_type": "markdown",
   "metadata": {},
   "source": [
    "TF Lite can optimize existing models to be less memory and cost-consuming, the ideal situation for using machine learning models on mobile and other Edge Devices."
   ]
  },
  {
   "cell_type": "code",
   "execution_count": null,
   "metadata": {},
   "outputs": [],
   "source": [
    "import numpy as  np # type: ignore\n",
    "import pandas as pd # type: ignore\n",
    "import tensorflow as tf # type: ignore\n",
    "import math\n",
    "\n",
    "from sklearn.preprocessing import MinMaxScaler # type: ignore\n",
    "from sklearn.metrics import mean_squared_error, mean_absolute_error, mean_absolute_percentage_error # type: ignore"
   ]
  },
  {
   "cell_type": "markdown",
   "metadata": {},
   "source": [
    "Now,we have to convert the h5 model to tflite model "
   ]
  },
  {
   "cell_type": "code",
   "execution_count": null,
   "metadata": {},
   "outputs": [],
   "source": [
    "def convert_weights_to_float32(model):\n",
    "    for layer in model.layers:\n",
    "        weights = layer.get_weights()\n",
    "        if weights:\n",
    "            weights = [tf.cast(w, dtype=tf.float32) for w in weights]\n",
    "            layer.set_weights(weights)\n",
    "    return model\n",
    "model1 = convert_weights_to_float32(\"Path_to_h5_Model\")\n",
    "\n",
    "converter = tf.lite.TFLiteConverter.from_keras_model(model1)\n",
    "converter.optimizations = [tf.lite.Optimize.DEFAULT]\n",
    "converter.target_spec.supported_ops = [\n",
    "    tf.lite.OpsSet.TFLITE_BUILTINS,\n",
    "    tf.lite.OpsSet.SELECT_TF_OPS\n",
    "]\n",
    "converter.experimental_enable_resource_variables = True \n",
    "converter._experimental_lower_tensor_list_ops = False\n",
    "converter.experimental_new_converter = True\n",
    "tflite_model = converter.convert()\n",
    "\n",
    "with open(\"PATH_TO_SAVE_THE_MODEL\", 'wb') as f:\n",
    "    f.write(tflite_model)"
   ]
  },
  {
   "cell_type": "markdown",
   "metadata": {},
   "source": [
    "Now,we have to make Predictions on the Tflite model"
   ]
  },
  {
   "cell_type": "code",
   "execution_count": null,
   "metadata": {},
   "outputs": [],
   "source": [
    "interpreter = tf.lite.Interpreter(model_path=\"Path_to_the_h5_Model\")\n",
    "interpreter.allocate_tensors()\n",
    "input_details = interpreter.get_input_details()\n",
    "output_details = interpreter.get_output_details()\n",
    "predicted_value = []\n",
    "true_values = []\n",
    "for i in range(len(X_short_term_test)):\n",
    "    input_data_1 = np.expand_dims(X_short_term_test[i], axis=0).astype(np.float32)\n",
    "    input_data_2 = np.expand_dims(X_historical_test[i], axis=0).astype(np.float32)\n",
    "    interpreter.set_tensor(input_details[0]['index'], input_data_2)\n",
    "    interpreter.set_tensor(input_details[1]['index'], input_data_1)\n",
    "    interpreter.invoke()\n",
    "    output_data = interpreter.get_tensor(output_details[0]['index'])\n",
    "    predicted_value.append(output_data[0][0])\n",
    "    true_values.append(y_test[i])\n",
    "predicted_value = np.array(predicted_value).reshape(-1, 1)\n",
    "\n",
    "tflite_predictions_rescaled = scaler.inverse_transform(predicted_value).flatten()\n",
    "tflite_y_test_rescaled = scaler.inverse_transform(true_values).flatten()\n",
    "\n",
    "tflite_min_length = min(len(tflite_predictions_rescaled), len(tflite_y_test_rescaled))\n",
    "tflite_predictions_rescale = tflite_predictions_rescaled[:tflite_min_length]\n",
    "tflite_y_test_rescale = tflite_y_test_rescaled[:tflite_min_length]\n",
    "\n",
    "tflite_results = pd.DataFrame(data={'Predictions': tflite_predictions_rescale, 'Actuals': tflite_y_test_rescale})\n",
    "\n",
    "print(tflite_results)"
   ]
  },
  {
   "cell_type": "markdown",
   "metadata": {},
   "source": [
    "# Error Values for the TFLite Model"
   ]
  },
  {
   "cell_type": "code",
   "execution_count": null,
   "metadata": {},
   "outputs": [],
   "source": [
    "rmse = math.sqrt(mean_squared_error(tflite_y_test_rescale, tflite_predictions_rescale))\n",
    "mae = mean_absolute_error(tflite_y_test_rescale, tflite_predictions_rescale)\n",
    "mape = mean_absolute_percentage_error(tflite_predictions_rescale, tflite_y_test_rescale)"
   ]
  },
  {
   "cell_type": "code",
   "execution_count": null,
   "metadata": {},
   "outputs": [],
   "source": [
    "print(\"RMSE:\", rmse)\n",
    "print(\"MAE:\", mae)\n",
    "print(\"MAPE:\", mape)"
   ]
  }
 ],
 "metadata": {
  "language_info": {
   "name": "python"
  }
 },
 "nbformat": 4,
 "nbformat_minor": 2
}
